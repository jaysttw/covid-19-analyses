{
 "cells": [
  {
   "cell_type": "markdown",
   "metadata": {},
   "source": [
    "# COVID-19 data exploration and monitoring\n",
    "With credits to Saeed Amen at Cuemacro (www.cuemacro.com)\n",
    "\n",
    "With inspiration from Saeed, this notebook intends to explore and visualise the trends of case growth in COVID-19 cases. In particular, I hope to understand more about the density of the infections relative to the population of a particular area.\n",
    "\n",
    "Currently, the sources for this notebook come from the Johns Hopkins University Center for Systems Science and Engineering (JHU CSSE) repository at https://github.com/CSSEGISandData/COVID-19, the source for the data in [another dashboard](https://gisanddata.maps.arcgis.com/apps/opsdashboard/index.html#/bda7594740fd40299423467b48e9ecf6).\n",
    "\n",
    "This repository contains data in multiple forms. As of the time of writing, there are WHO situation reports as well as data from the CSSE COVID-19 dataset. In each of these datasets, there are daily snapshot reports, as well as the time series of each of the datasets. Lastly, there is a directory containing archived data. The CSSE COVID-19 dataset also includes a look-up table for ISO FIPS UID."
   ]
  },
  {
   "cell_type": "code",
   "execution_count": 1,
   "metadata": {},
   "outputs": [],
   "source": [
    "REPO_PATH = \"https://raw.githubusercontent.com/CSSEGISandData/COVID-19/master/\"\n",
    "CSSE_DATA_PATH = REPO_PATH + \"csse_covid_19_data/\"\n",
    "TIME_SERIES_PATH = CSSE_DATA_PATH + \"csse_covid_19_time_series/\""
   ]
  },
  {
   "cell_type": "code",
   "execution_count": 2,
   "metadata": {},
   "outputs": [],
   "source": [
    "CSV_URL = {}\n",
    "CSV_URL['CONFIRMED'] = \"time_series_covid19_confirmed_global.csv\"\n",
    "CSV_URL['DEATHS'] = \"time_series_covid19_deaths_global.csv\"\n",
    "CSV_URL['RECOVERED'] = \"time_series_covid19_recovered_global.csv\"\n",
    "CSV_URL['US_CONFIRMED'] = \"time_series_covid19_confirmed_US.csv\"\n",
    "CSV_URL['US_DEATHS'] = \"time_series_covid19_deaths_US.csv\""
   ]
  },
  {
   "cell_type": "code",
   "execution_count": 3,
   "metadata": {},
   "outputs": [],
   "source": [
    "# download OECD information\n",
    "OECD_CSV = \"https://stats.oecd.org/sdmx-json/data/DP_LIVE/.POP.../OECD?contentType=csv&detail=code&separator=comma&csv-lang=en\"\n",
    "\n",
    "# World Bank population data\n",
    "WORLDBANK_POP_ZIP = \"http://api.worldbank.org/v2/en/indicator/SP.POP.TOTL?downloadformat=csv\""
   ]
  },
  {
   "cell_type": "code",
   "execution_count": 4,
   "metadata": {},
   "outputs": [
    {
     "name": "stdout",
     "output_type": "stream",
     "text": [
      "Numpy version: 1.18.1\n",
      "Pandas version: 1.0.3\n"
     ]
    }
   ],
   "source": [
    "import numpy as np\n",
    "import pandas as pd\n",
    "import zipfile as zf\n",
    "import datetime as dt\n",
    "import requests\n",
    "import io\n",
    "\n",
    "print(f\"Numpy version: {np.__version__}\")\n",
    "print(f\"Pandas version: {pd.__version__}\")\n",
    "#print(f\"Zipfile version: {zf.__version__}\")\n",
    "\n",
    "%matplotlib inline"
   ]
  },
  {
   "cell_type": "markdown",
   "metadata": {},
   "source": [
    "## Confirmed cases"
   ]
  },
  {
   "cell_type": "markdown",
   "metadata": {},
   "source": [
    "Research questions to be addressed:\n",
    "1. Has the pace of infections slowed in the US and other (selected) countries?\n",
    "2. Is there a \"natural\" proportion of the population which will be infected before it tails off?\n",
    "3. How can I identify \"regimes\" of infection transmission?"
   ]
  },
  {
   "cell_type": "code",
   "execution_count": 5,
   "metadata": {},
   "outputs": [],
   "source": [
    "df_us_confirmed = (pd.read_csv(TIME_SERIES_PATH + CSV_URL['US_CONFIRMED'])\n",
    "                   .rename(columns={'Long_': 'Long',\n",
    "                                    'Country_Region': 'Country/Region',\n",
    "                                    'Province_State': 'Province/State'\n",
    "                                   })\n",
    "                  )\n",
    "df_confirmed = pd.read_csv(TIME_SERIES_PATH + CSV_URL['CONFIRMED'])"
   ]
  },
  {
   "cell_type": "code",
   "execution_count": 6,
   "metadata": {},
   "outputs": [
    {
     "data": {
      "text/plain": [
       "{'Admin2', 'Combined_Key', 'FIPS', 'UID', 'code3', 'iso2', 'iso3'}"
      ]
     },
     "execution_count": 6,
     "metadata": {},
     "output_type": "execute_result"
    }
   ],
   "source": [
    "set(df_us_confirmed.columns) - set(df_confirmed.columns)"
   ]
  },
  {
   "cell_type": "code",
   "execution_count": 7,
   "metadata": {},
   "outputs": [
    {
     "data": {
      "text/plain": [
       "set()"
      ]
     },
     "execution_count": 7,
     "metadata": {},
     "output_type": "execute_result"
    }
   ],
   "source": [
    "set(df_confirmed.columns) - set(df_us_confirmed.columns)"
   ]
  },
  {
   "cell_type": "code",
   "execution_count": 8,
   "metadata": {},
   "outputs": [],
   "source": [
    "def _process_columns(col_name):\n",
    "        try: \n",
    "            return dt.datetime.strptime(col_name, '%m/%d/%y').date()\n",
    "        except ValueError:\n",
    "            return col_name"
   ]
  },
  {
   "cell_type": "code",
   "execution_count": 9,
   "metadata": {},
   "outputs": [],
   "source": [
    "df_by_country = (pd.pivot_table(df_confirmed.drop(columns=['Lat', 'Long', 'Province/State']),\n",
    "                                index=['Country/Region'],\n",
    "                                aggfunc=np.sum\n",
    "                               )\n",
    "                 .rename(columns=_process_columns)\n",
    "                 .transpose()\n",
    "                 .sort_index()\n",
    "                )"
   ]
  },
  {
   "cell_type": "markdown",
   "metadata": {},
   "source": [
    "## Cases globally"
   ]
  },
  {
   "cell_type": "code",
   "execution_count": 10,
   "metadata": {},
   "outputs": [
    {
     "data": {
      "text/plain": [
       "<matplotlib.axes._subplots.AxesSubplot at 0x7fa9d6627990>"
      ]
     },
     "execution_count": 10,
     "metadata": {},
     "output_type": "execute_result"
    },
    {
     "data": {
      "image/png": "[encoded data removed]",
      "text/plain": [
       "<Figure size 432x288 with 1 Axes>"
      ]
     },
     "metadata": {
      "needs_background": "light"
     },
     "output_type": "display_data"
    }
   ],
   "source": [
    "df_by_country.sum(axis=1).plot()"
   ]
  },
  {
   "cell_type": "code",
   "execution_count": 11,
   "metadata": {},
   "outputs": [
    {
     "data": {
      "text/plain": [
       "<matplotlib.axes._subplots.AxesSubplot at 0x7fa9d5b83f90>"
      ]
     },
     "execution_count": 11,
     "metadata": {},
     "output_type": "execute_result"
    },
    {
     "data": {
      "image/png": "[encoded data removed]",
      "text/plain": [
       "<Figure size 432x288 with 1 Axes>"
      ]
     },
     "metadata": {
      "needs_background": "light"
     },
     "output_type": "display_data"
    }
   ],
   "source": [
    "df_by_country.sum(axis=1).pct_change().plot()"
   ]
  },
  {
   "cell_type": "code",
   "execution_count": 13,
   "metadata": {},
   "outputs": [
    {
     "data": {
      "text/plain": [
       "<matplotlib.axes._subplots.AxesSubplot at 0x7fa9d1920d90>"
      ]
     },
     "execution_count": 13,
     "metadata": {},
     "output_type": "execute_result"
    },
    {
     "data": {
      "image/png": "[encoded data removed]",
      "text/plain": [
       "<Figure size 432x288 with 1 Axes>"
      ]
     },
     "metadata": {
      "needs_background": "light"
     },
     "output_type": "display_data"
    }
   ],
   "source": [
    "df_by_country.sum(axis=1).pct_change().hist(bins=100)"
   ]
  },
  {
   "cell_type": "code",
   "execution_count": 14,
   "metadata": {},
   "outputs": [
    {
     "data": {
      "text/plain": [
       "<matplotlib.axes._subplots.AxesSubplot at 0x7fa9d17a8650>"
      ]
     },
     "execution_count": 14,
     "metadata": {},
     "output_type": "execute_result"
    },
    {
     "data": {
      "image/png": "[encoded data removed]",
      "text/plain": [
       "<Figure size 432x288 with 1 Axes>"
      ]
     },
     "metadata": {
      "needs_background": "light"
     },
     "output_type": "display_data"
    }
   ],
   "source": [
    "np.log(df_by_country.sum(axis=1)).diff().plot()"
   ]
  },
  {
   "cell_type": "code",
   "execution_count": 15,
   "metadata": {},
   "outputs": [
    {
     "data": {
      "text/plain": [
       "<matplotlib.axes._subplots.AxesSubplot at 0x7fa9d16c7090>"
      ]
     },
     "execution_count": 15,
     "metadata": {},
     "output_type": "execute_result"
    },
    {
     "data": {
      "image/png": "[encoded data removed]",
      "text/plain": [
       "<Figure size 432x288 with 1 Axes>"
      ]
     },
     "metadata": {
      "needs_background": "light"
     },
     "output_type": "display_data"
    }
   ],
   "source": [
    "np.log(df_by_country.sum(axis=1)).diff().hist(bins=100)"
   ]
  },
  {
   "cell_type": "code",
   "execution_count": null,
   "metadata": {},
   "outputs": [],
   "source": [
    "def process_JHU():\n",
    "    \n",
    "    dfs = {}\n",
    "    \n",
    "    # First, retrieve data\n",
    "    for x in ['confirmed','deaths','recovered']:\n",
    "        dfs[x + '_RAW'] = (pd.read_csv(TIME_SERIES_PATH + CSV_URL[upper(x)])\n",
    "                           .rename(columns=_process_columns)\n",
    "                          )\n",
    "    \n",
    "    for x in ['confirmed','deaths']:\n",
    "        dfs[x + '_US_RAW'] = (pd.read_csv(TIME_SERIES_PATH + CSV_URL['US_' + upper(x)])\n",
    "                              .rename(columns={'Long_': 'Long',\n",
    "                                               'Country_Region': 'Country/Region',\n",
    "                                               'Province_State': 'Province/State'\n",
    "                                              })\n",
    "                              .rename(columns=_process_columns)\n",
    "                             )\n",
    "        dfs[x + '_GLOBAL'] = _concatenate_US() # concatenate both US and global data\n",
    "        dfs[x + '_COUNTRY'] = _country_level(dfs[x + '_GLOBAL']) # Generate country-level data\n",
    "    \n",
    "    def _country_level(df):\n",
    "        '''Generate country-level dataframe of numbers from concatenated dataframes.\n",
    "        '''\n",
    "        temp_df = df.drop(['Lat', 'Long', 'Province/State'])\n",
    "        temp_df = pd.pivot_table(temp_df,\n",
    "                                 index=['Country/Region'],\n",
    "                                 aggfunc=np.sum\n",
    "                                )\n",
    "        return temp_df\n",
    "    \n",
    "    def _concatenate_US(global_df, us_df):\n",
    "        '''Concatenate both dataframes to return country-level information.\n",
    "        Discards data more granular than the province/state level.\n",
    "        '''\n",
    "        temp_df = us_df.copy()\n",
    "        excess_cols = set(us_df.columns) - set(global_df.columns)\n",
    "        temp_df = temp_df.drop(excess_cols)\n",
    "        return temp_df\n",
    "    \n",
    "    def _process_columns(col_name):\n",
    "        try: \n",
    "            return dt.datetime.strptime(col_name, '%m/%d/%y').date()\n",
    "        except ValueError:\n",
    "            return col_name"
   ]
  },
  {
   "cell_type": "code",
   "execution_count": null,
   "metadata": {},
   "outputs": [],
   "source": []
  },
  {
   "cell_type": "code",
   "execution_count": null,
   "metadata": {},
   "outputs": [],
   "source": [
    "[_process_columns(x) for x in df_confirmed.columns[4:]]"
   ]
  },
  {
   "cell_type": "markdown",
   "metadata": {},
   "source": [
    "## Population information"
   ]
  },
  {
   "cell_type": "code",
   "execution_count": null,
   "metadata": {},
   "outputs": [],
   "source": [
    "worldbank_pop_request = requests.get(WORLDBANK_POP_ZIP)\n",
    "with zf.ZipFile(io.BytesIO(worldbank_pop_request.content), 'r') as wb_pop_zip:\n",
    "    wb_pop_zip.extractall('tmp')"
   ]
  },
  {
   "cell_type": "code",
   "execution_count": null,
   "metadata": {},
   "outputs": [],
   "source": [
    "# to replace if possible\n",
    "POPULATION_CSV = \"API_SP.POP.TOTL_DS2_en_csv_v2_821007.csv\"\n",
    "COUNTRY_METADATA_CSV = \"Metadata_Country_API_SP.POP.TOTL_DS2_en_csv_v2_821007.csv\""
   ]
  },
  {
   "cell_type": "code",
   "execution_count": null,
   "metadata": {},
   "outputs": [],
   "source": [
    "df_worldbank_pop = pd.read_csv(\"tmp/\" + POPULATION_CSV, skiprows=2)\n",
    "df_country_metadata = pd.read_csv(\"tmp/\" + COUNTRY_METADATA_CSV)"
   ]
  },
  {
   "cell_type": "code",
   "execution_count": null,
   "metadata": {},
   "outputs": [],
   "source": [
    "df_worldbank_pop"
   ]
  }
 ],
 "metadata": {
  "kernelspec": {
   "display_name": "Python 3",
   "language": "python",
   "name": "python3"
  },
  "language_info": {
   "codemirror_mode": {
    "name": "ipython",
    "version": 3
   },
   "file_extension": ".py",
   "mimetype": "text/x-python",
   "name": "python",
   "nbconvert_exporter": "python",
   "pygments_lexer": "ipython3",
   "version": "3.7.7"
  }
 },
 "nbformat": 4,
 "nbformat_minor": 4
}
